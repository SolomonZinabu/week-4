{
 "cells": [
  {
   "cell_type": "code",
   "execution_count": null,
   "metadata": {},
   "outputs": [],
   "source": [
    "# eda_task_2.ipynb\n",
    "# Import necessary libraries\n",
    "import pandas as pd\n",
    "from scripts.data_processing import clean_data2, feature_engineering2\n",
    "from scripts.model_training import train_random_forest, evaluate_model\n",
    "\n",
    "# Load datasets\n",
    "train = pd.read_csv('../data/rossmann-store-sales/train.csv')\n",
    "store = pd.read_csv('../data/rossmann-store-sales/store.csv')\n",
    "\n",
    "# Clean and preprocess data\n",
    "train_cleaned = clean_data2(train, store)\n",
    "train_fe = feature_engineering2(train_cleaned)\n",
    "\n",
    "# Split data and train a RandomForest model\n",
    "X = train_fe.drop(columns=['Sales'])\n",
    "y = train_fe['Sales']\n",
    "\n",
    "model, X_test, y_test = train_random_forest(X, y)\n",
    "\n",
    "# Evaluate the model\n",
    "evaluate_model(model, X_test, y_test)\n",
    "\n"
   ]
  }
 ],
 "metadata": {
  "kernelspec": {
   "display_name": "venv",
   "language": "python",
   "name": "python3"
  },
  "language_info": {
   "codemirror_mode": {
    "name": "ipython",
    "version": 3
   },
   "file_extension": ".py",
   "mimetype": "text/x-python",
   "name": "python",
   "nbconvert_exporter": "python",
   "pygments_lexer": "ipython3",
   "version": "3.12.6"
  }
 },
 "nbformat": 4,
 "nbformat_minor": 2
}
